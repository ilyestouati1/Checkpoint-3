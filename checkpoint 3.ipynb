{
 "cells": [
  {
   "cell_type": "code",
   "execution_count": 1,
   "id": "6a044c04",
   "metadata": {},
   "outputs": [
    {
     "ename": "KeyboardInterrupt",
     "evalue": "Interrupted by user",
     "output_type": "error",
     "traceback": [
      "\u001b[1;31m---------------------------------------------------------------------------\u001b[0m",
      "\u001b[1;31mKeyboardInterrupt\u001b[0m                         Traceback (most recent call last)",
      "\u001b[1;32m<ipython-input-1-76227453a711>\u001b[0m in \u001b[0;36m<module>\u001b[1;34m\u001b[0m\n\u001b[0;32m      1\u001b[0m \u001b[1;31m#question 1\u001b[0m\u001b[1;33m\u001b[0m\u001b[1;33m\u001b[0m\u001b[1;33m\u001b[0m\u001b[0m\n\u001b[0;32m      2\u001b[0m \u001b[0mS\u001b[0m\u001b[1;33m=\u001b[0m\u001b[1;33m[\u001b[0m\u001b[1;33m]\u001b[0m\u001b[1;33m\u001b[0m\u001b[1;33m\u001b[0m\u001b[0m\n\u001b[1;32m----> 3\u001b[1;33m \u001b[0mN\u001b[0m\u001b[1;33m=\u001b[0m\u001b[0mint\u001b[0m\u001b[1;33m(\u001b[0m\u001b[0minput\u001b[0m\u001b[1;33m(\u001b[0m\u001b[1;34m\"saisissez un nombre\"\u001b[0m\u001b[1;33m)\u001b[0m\u001b[1;33m)\u001b[0m\u001b[1;33m\u001b[0m\u001b[1;33m\u001b[0m\u001b[0m\n\u001b[0m\u001b[0;32m      4\u001b[0m \u001b[1;32mfor\u001b[0m \u001b[0mi\u001b[0m \u001b[1;32min\u001b[0m \u001b[0mrange\u001b[0m \u001b[1;33m(\u001b[0m\u001b[1;36m0\u001b[0m\u001b[1;33m,\u001b[0m\u001b[0mN\u001b[0m\u001b[1;33m)\u001b[0m\u001b[1;33m:\u001b[0m\u001b[1;33m\u001b[0m\u001b[1;33m\u001b[0m\u001b[0m\n\u001b[0;32m      5\u001b[0m \u001b[1;33m\u001b[0m\u001b[0m\n",
      "\u001b[1;32m~\\anaconda3\\lib\\site-packages\\ipykernel\\kernelbase.py\u001b[0m in \u001b[0;36mraw_input\u001b[1;34m(self, prompt)\u001b[0m\n\u001b[0;32m    858\u001b[0m                 \u001b[1;34m\"raw_input was called, but this frontend does not support input requests.\"\u001b[0m\u001b[1;33m\u001b[0m\u001b[1;33m\u001b[0m\u001b[0m\n\u001b[0;32m    859\u001b[0m             )\n\u001b[1;32m--> 860\u001b[1;33m         return self._input_request(str(prompt),\n\u001b[0m\u001b[0;32m    861\u001b[0m             \u001b[0mself\u001b[0m\u001b[1;33m.\u001b[0m\u001b[0m_parent_ident\u001b[0m\u001b[1;33m,\u001b[0m\u001b[1;33m\u001b[0m\u001b[1;33m\u001b[0m\u001b[0m\n\u001b[0;32m    862\u001b[0m             \u001b[0mself\u001b[0m\u001b[1;33m.\u001b[0m\u001b[0m_parent_header\u001b[0m\u001b[1;33m,\u001b[0m\u001b[1;33m\u001b[0m\u001b[1;33m\u001b[0m\u001b[0m\n",
      "\u001b[1;32m~\\anaconda3\\lib\\site-packages\\ipykernel\\kernelbase.py\u001b[0m in \u001b[0;36m_input_request\u001b[1;34m(self, prompt, ident, parent, password)\u001b[0m\n\u001b[0;32m    902\u001b[0m             \u001b[1;32mexcept\u001b[0m \u001b[0mKeyboardInterrupt\u001b[0m\u001b[1;33m:\u001b[0m\u001b[1;33m\u001b[0m\u001b[1;33m\u001b[0m\u001b[0m\n\u001b[0;32m    903\u001b[0m                 \u001b[1;31m# re-raise KeyboardInterrupt, to truncate traceback\u001b[0m\u001b[1;33m\u001b[0m\u001b[1;33m\u001b[0m\u001b[1;33m\u001b[0m\u001b[0m\n\u001b[1;32m--> 904\u001b[1;33m                 \u001b[1;32mraise\u001b[0m \u001b[0mKeyboardInterrupt\u001b[0m\u001b[1;33m(\u001b[0m\u001b[1;34m\"Interrupted by user\"\u001b[0m\u001b[1;33m)\u001b[0m \u001b[1;32mfrom\u001b[0m \u001b[1;32mNone\u001b[0m\u001b[1;33m\u001b[0m\u001b[1;33m\u001b[0m\u001b[0m\n\u001b[0m\u001b[0;32m    905\u001b[0m             \u001b[1;32mexcept\u001b[0m \u001b[0mException\u001b[0m \u001b[1;32mas\u001b[0m \u001b[0me\u001b[0m\u001b[1;33m:\u001b[0m\u001b[1;33m\u001b[0m\u001b[1;33m\u001b[0m\u001b[0m\n\u001b[0;32m    906\u001b[0m                 \u001b[0mself\u001b[0m\u001b[1;33m.\u001b[0m\u001b[0mlog\u001b[0m\u001b[1;33m.\u001b[0m\u001b[0mwarning\u001b[0m\u001b[1;33m(\u001b[0m\u001b[1;34m\"Invalid Message:\"\u001b[0m\u001b[1;33m,\u001b[0m \u001b[0mexc_info\u001b[0m\u001b[1;33m=\u001b[0m\u001b[1;32mTrue\u001b[0m\u001b[1;33m)\u001b[0m\u001b[1;33m\u001b[0m\u001b[1;33m\u001b[0m\u001b[0m\n",
      "\u001b[1;31mKeyboardInterrupt\u001b[0m: Interrupted by user"
     ]
    }
   ],
   "source": [
    "#question 1 \n",
    "S=[]\n",
    "N=int(input(\"saisissez un nombre\"))\n",
    "for i in range (0,N):\n",
    " \n",
    "    valeur=int(input(\"entrez un nombre: \"))\n",
    "    S.append(valeur)\n",
    "print(S)\n",
    "v=1\n",
    "for q in S:\n",
    "    v=v*q\n",
    "print (v)\n",
    "    \n",
    "    \n",
    "\n",
    "      "
   ]
  },
  {
   "cell_type": "code",
   "execution_count": 4,
   "id": "df21c629",
   "metadata": {},
   "outputs": [
    {
     "name": "stdout",
     "output_type": "stream",
     "text": [
      "saissez la longeure de votre liste3\n",
      "veuillez saisir le premier contenu du tuple1\n",
      "veuilez saisir le deuxiéme contenu du tuple6\n",
      "veuillez saisir le premier contenu du tuple1\n",
      "veuilez saisir le deuxiéme contenu du tuple8\n",
      "veuillez saisir le premier contenu du tuple1\n",
      "veuilez saisir le deuxiéme contenu du tuple2\n",
      "[(1, 2), (1, 6), (1, 8)]\n"
     ]
    }
   ],
   "source": [
    "#question 2\n",
    "A=[]\n",
    "B=int(input(\"saissez la longeure de votre liste\"))\n",
    "for i in range (B):\n",
    "    S1=int(input(\"veuillez saisir le premier contenu du tuple\"))\n",
    "    S2=int(input(\"veuilez saisir le deuxiéme contenu du tuple\"))\n",
    "    tu=(S1,S2)\n",
    "    A.append(tu)\n",
    "A.sort()\n",
    "print(A)\n",
    "\n",
    "\n"
   ]
  },
  {
   "cell_type": "code",
   "execution_count": 14,
   "id": "6fe76a3f",
   "metadata": {
    "scrolled": true
   },
   "outputs": [
    {
     "name": "stdout",
     "output_type": "stream",
     "text": [
      "saisissez la longueur de votre liste2\n",
      "saisissez une lettrea\n",
      "saisissez le contenu de votre dictionnaire100\n",
      "saisissez une lettreb\n",
      "saisissez le contenu de votre dictionnaire200\n",
      "saisissez la longueur de votre deuxiéme liste2\n",
      "saisissez une letrrea\n",
      "saisissez lecontenu de votre dexiéme dictionnaire200\n",
      "saisissez une letrreb\n",
      "saisissez lecontenu de votre dexiéme dictionnaire100\n",
      "{'a': 100, 'b': 200} {'a': 200, 'b': 100}\n",
      "Counter({'a': 300, 'b': 300})\n"
     ]
    }
   ],
   "source": [
    "#question 3\n",
    "from collections import Counter\n",
    "A={}\n",
    "D={}\n",
    "B=int(input(\"saisissez la longueur de votre liste\"))\n",
    "for i in range (B):\n",
    "    L1=input(\"saisissez une lettre\")\n",
    "    d1=int(input(\"saisissez le contenu de votre dictionnaire\"))\n",
    "    \n",
    "    A[L1]=d1\n",
    "    \n",
    "C=int(input('saisissez la longueur de votre deuxiéme liste'))\n",
    "for q in range(C):\n",
    "    L2=input(\"saisissez une letrre\")\n",
    "    d2=int(input(\"saisissez lecontenu de votre dexiéme dictionnaire\"))\n",
    " \n",
    "    D[L2]=d2\n",
    "    \n",
    "print(A , D)\n",
    "C=Counter(A)+Counter(D)\n",
    "    \n",
    "print(C)\n",
    "           \n",
    "    \n",
    "\n"
   ]
  },
  {
   "cell_type": "code",
   "execution_count": 17,
   "id": "a61a48a6",
   "metadata": {
    "scrolled": true
   },
   "outputs": [
    {
     "name": "stdout",
     "output_type": "stream",
     "text": [
      "saisissez la longuer de votre chaine8\n",
      "{1: 1, 2: 4, 3: 9, 4: 16, 5: 25, 6: 36, 7: 49, 8: 64}\n"
     ]
    }
   ],
   "source": [
    "#question 4\n",
    "A={}\n",
    "n=int(input(\"saisissez la longuer de votre chaine\"))\n",
    "for i in range (1,n+1):\n",
    "    A[i]=i*i\n",
    "print ()"
   ]
  },
  {
   "cell_type": "code",
   "execution_count": 19,
   "id": "6a4e5130",
   "metadata": {},
   "outputs": [
    {
     "name": "stdout",
     "output_type": "stream",
     "text": [
      "saisissez la longueur de votre liste3\n",
      "tapez un mottest1\n",
      "tapez un chiffre assosier a ce mot12.3\n",
      "tapez un mottest2\n",
      "tapez un chiffre assosier a ce mot1.6\n",
      "tapez un mottest3\n",
      "tapez un chiffre assosier a ce mot4.8\n",
      "[('test1', 12.3), ('test3', 4.8), ('test2', 1.6)]\n"
     ]
    }
   ],
   "source": [
    "#question 5\n",
    "A=[]\n",
    "B=int(input(\"saisissez la longueur de votre liste\"))\n",
    "for i in range (B):\n",
    "    T1=input(\"tapez un mot\")\n",
    "    T2=float(input(\"tapez un chiffre assosier a ce mot\"))\n",
    "    Tu=(T1,T2)\n",
    "    A.append(Tu)\n",
    "def tuplefloat(f):\n",
    "    f=f[1]\n",
    "    return f\n",
    "A.sort(key=tuplefloat,reverse=True)\n",
    "print (A)"
   ]
  },
  {
   "cell_type": "code",
   "execution_count": null,
   "id": "6e3ae248",
   "metadata": {},
   "outputs": [],
   "source": []
  }
 ],
 "metadata": {
  "kernelspec": {
   "display_name": "Python 3",
   "language": "python",
   "name": "python3"
  },
  "language_info": {
   "codemirror_mode": {
    "name": "ipython",
    "version": 3
   },
   "file_extension": ".py",
   "mimetype": "text/x-python",
   "name": "python",
   "nbconvert_exporter": "python",
   "pygments_lexer": "ipython3",
   "version": "3.8.8"
  }
 },
 "nbformat": 4,
 "nbformat_minor": 5
}
